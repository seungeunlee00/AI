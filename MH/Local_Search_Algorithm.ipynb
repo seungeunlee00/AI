{
  "nbformat": 4,
  "nbformat_minor": 0,
  "metadata": {
    "colab": {
      "provenance": [],
      "authorship_tag": "ABX9TyMG3W0cSe1uz/shAB4zIbAI",
      "include_colab_link": true
    },
    "kernelspec": {
      "name": "python3",
      "display_name": "Python 3"
    },
    "language_info": {
      "name": "python"
    }
  },
  "cells": [
    {
      "cell_type": "markdown",
      "metadata": {
        "id": "view-in-github",
        "colab_type": "text"
      },
      "source": [
        "<a href=\"https://colab.research.google.com/github/seungeunlee00/JUNIA/blob/main/MH/Local_Search_Algorithm.ipynb\" target=\"_parent\"><img src=\"https://colab.research.google.com/assets/colab-badge.svg\" alt=\"Open In Colab\"/></a>"
      ]
    },
    {
      "cell_type": "markdown",
      "source": [
        "# Implement your first S-metaheuristic algorithm – The Local Search Algorithm (LS)\n",
        "\n",
        "Develop the selection strategies and the\n",
        "neighborhood generation methods\n",
        "\n",
        "Apply it for\n",
        "\n",
        "• The example of maximization function (slide 36, x in\n",
        "[0,31])\n",
        "\n",
        "• Give the obtained solution for each selection strategy\n",
        "and neighborhood generation\n",
        "\n",
        "• Show the associated search trajectory curve\n",
        "\n",
        "• Test the TSP problem – Data available on the campus"
      ],
      "metadata": {
        "id": "oShNSdiYu176"
      }
    },
    {
      "cell_type": "markdown",
      "source": [
        "1. my code"
      ],
      "metadata": {
        "id": "H_R--4Lnuxvn"
      }
    },
    {
      "cell_type": "code",
      "execution_count": null,
      "metadata": {
        "colab": {
          "base_uri": "https://localhost:8080/"
        },
        "id": "LZ6HKj0ezjLe",
        "outputId": "bbef332b-09f7-4b5d-abab-ab0a51c8dc91"
      },
      "outputs": [
        {
          "output_type": "stream",
          "name": "stdout",
          "text": [
            "initial : ( 17 , 2873 ) ['1', '0', '0', '0', '1']\n",
            "Neighbor Binary: [['0', '0', '0', '0', '1'], ['1', '1', '0', '0', '1'], ['1', '0', '1', '0', '1'], ['1', '0', '0', '1', '1'], ['1', '0', '0', '0', '0']]\n",
            "Neighbor Integer: [1, 25, 21, 19, 16]\n",
            "Neighbor answer: [841, 625, 1701, 2299, 3136]\n",
            "3136\n"
          ]
        }
      ],
      "source": [
        "from random import *\n",
        "\n",
        "x=[0, 31]\n",
        "#x0=randint(0, 31) #initial x in integer\n",
        "x0=17 \n",
        "x0bin=['0','0','0','0','0'] #initial x in binary\n",
        "y0=x0*x0*x0 - 60*x0*x0 + 900*x0 #initial solution\n",
        "n=[0,0,0,0,0] #neighbor in integer\n",
        "nbin=[0,0,0,0,0] #neighbor in binary\n",
        "ny=[0,0,0,0,0] #neighbor's y\n",
        "\n",
        "#change initial solution integer to binary\n",
        "a=x0\n",
        "b=[]\n",
        "while a>0: \n",
        "   div = a//2\n",
        "   mod = a%2\n",
        "   a=div\n",
        "   b += str(mod)\n",
        "\n",
        "for i in range(0, 5):\n",
        "  x0bin[i] = b[i]\n",
        "\n",
        "print('initial : (',x0,',',y0,')', x0bin)\n",
        "\n",
        "#make neighbor in binary\n",
        "for i in range(0, 5):\n",
        "  nbin[i] = x0bin.copy()\n",
        "\n",
        "for i in range(0, 5):\n",
        "  if(x0bin[i]=='0'):\n",
        "    nbin[i][i]='1'\n",
        "  else:\n",
        "    nbin[i][i]='0'\n",
        "\n",
        "print('Neighbor Binary:', nbin)\n",
        "\n",
        "#change neighbor binary to integer\n",
        "for i in range(0, 5):\n",
        "    n[i] = int(nbin[i][0])*16 + int(nbin[i][1])*8 + int(nbin[i][2])*4 + int(nbin[i][3])*2 + int(nbin[i][4])*1\n",
        "\n",
        "print('Neighbor Integer:', n)\n",
        "\n",
        "#calculate y of neighbor\n",
        "for i in range(0, 5):\n",
        "  ny[i] = n[i]*n[i]*n[i] - 60*n[i]*n[i] + 900*n[i]\n",
        "print('Neighbor answer:', ny)\n",
        "\n",
        "if(max(ny)>y0):\n",
        "  print(max(ny))\n",
        "else:\n",
        "  print(ny)\n",
        "  "
      ]
    },
    {
      "cell_type": "markdown",
      "source": [
        "2. Solution"
      ],
      "metadata": {
        "id": "oT3FO4otuVa9"
      }
    },
    {
      "cell_type": "code",
      "source": [
        "import numpy as np\n",
        "import random as r\n",
        "import matplotlib.pyplot as plt\n",
        "\n",
        "def fn(x):\n",
        "    return x**3 - 60*x**2 + 900*x\n",
        "\n",
        "def to_bin(x):\n",
        "    b=[0,0,0,0,0]\n",
        "    i=-1\n",
        "    while x//2!=0:\n",
        "        b[i]=x%2\n",
        "        x=x//2\n",
        "        i=i-1\n",
        "    b[i]=1\n",
        "    return b\n",
        "def to_dec(b):\n",
        "    x = 0\n",
        "    i=-1\n",
        "    for y in b:\n",
        "        x = x+y*2**(5+i)\n",
        "        i = i-1\n",
        "    return x\n",
        "\n",
        "def hamming(s):\n",
        "    b = to_bin(s[0])\n",
        "    print(b)\n",
        "    s_ = []\n",
        "    for i in range(5):\n",
        "        a = b.copy()\n",
        "        a[i] = int(not a[i])\n",
        "        print(a)\n",
        "        x = to_dec(a)\n",
        "        s_.append([x,fn(x)])\n",
        "    return s_\n",
        "\n",
        "def best_select(n,s):\n",
        "    for s_ in n:\n",
        "        if s_[1] > s[1]:\n",
        "            s = s_.copy()\n",
        "    return s\n",
        "def first_select(n,s):\n",
        "    for s_ in n:\n",
        "        if s_[1] > s[1]:\n",
        "            s = s_.copy()\n",
        "            break\n",
        "    return s\n",
        "def rand_select(n,s):\n",
        "    nn = r.shuffle(n)\n",
        "    for s_ in r.sample(n,len(n)):\n",
        "        if s_[1] > s[1]:\n",
        "            s = s_.copy()\n",
        "            break\n",
        "    return s"
      ],
      "metadata": {
        "id": "VK4FXtnTuYcU"
      },
      "execution_count": null,
      "outputs": []
    },
    {
      "cell_type": "code",
      "source": [
        "x=r.randint(0,31)\n",
        "s = [x,fn(x)]\n",
        "print(s)\n",
        "i=0\n",
        "while i<5:\n",
        "    print('----hamming----')\n",
        "    n = hamming(s)\n",
        "    print(n)\n",
        "    s_ = first_select(n,s)\n",
        "    #s_ = best_select(n,s)\n",
        "    #s_ = rand_select(n,s)\n",
        "    if s_ == s:\n",
        "        break\n",
        "    else:\n",
        "        print('----select----')\n",
        "        s = s_\n",
        "    print(s)\n",
        "    i=i+1\n",
        "print('----final result----')\n",
        "print(s)"
      ],
      "metadata": {
        "colab": {
          "base_uri": "https://localhost:8080/"
        },
        "id": "ZZ3_PwnLugHg",
        "outputId": "72fde0ef-56d7-424c-affd-9a4bed170efa"
      },
      "execution_count": null,
      "outputs": [
        {
          "output_type": "stream",
          "name": "stdout",
          "text": [
            "[31, 31]\n",
            "----hamming----\n",
            "[1, 1, 1, 1, 1]\n",
            "[0, 1, 1, 1, 1]\n",
            "[1, 0, 1, 1, 1]\n",
            "[1, 1, 0, 1, 1]\n",
            "[1, 1, 1, 0, 1]\n",
            "[1, 1, 1, 1, 0]\n",
            "[[15, 3375], [23, 1127], [27, 243], [29, 29], [30, 0]]\n",
            "----select----\n",
            "[15, 3375]\n",
            "----hamming----\n",
            "[0, 1, 1, 1, 1]\n",
            "[1, 1, 1, 1, 1]\n",
            "[0, 0, 1, 1, 1]\n",
            "[0, 1, 0, 1, 1]\n",
            "[0, 1, 1, 0, 1]\n",
            "[0, 1, 1, 1, 0]\n",
            "[[31, 31], [7, 3703], [11, 3971], [13, 3757], [14, 3584]]\n",
            "----select----\n",
            "[7, 3703]\n",
            "----hamming----\n",
            "[0, 0, 1, 1, 1]\n",
            "[1, 0, 1, 1, 1]\n",
            "[0, 1, 1, 1, 1]\n",
            "[0, 0, 0, 1, 1]\n",
            "[0, 0, 1, 0, 1]\n",
            "[0, 0, 1, 1, 0]\n",
            "[[23, 1127], [15, 3375], [3, 2187], [5, 3125], [6, 3456]]\n",
            "----final result----\n",
            "[7, 3703]\n"
          ]
        }
      ]
    },
    {
      "cell_type": "code",
      "source": [
        "x = np.linspace(0,31,100)\n",
        "y = fn(x)\n",
        "\n",
        "plt.plot(x,y, 'r')\n",
        "plt.show()"
      ],
      "metadata": {
        "colab": {
          "base_uri": "https://localhost:8080/",
          "height": 265
        },
        "id": "0RTQ802quis7",
        "outputId": "e61caabc-8051-4d9f-ee15-058643768391"
      },
      "execution_count": null,
      "outputs": [
        {
          "output_type": "display_data",
          "data": {
            "text/plain": [
              "<Figure size 432x288 with 1 Axes>"
            ],
            "image/png": "[encoded data removed]"
          },
          "metadata": {
            "needs_background": "light"
          }
        }
      ]
    }
  ]
}