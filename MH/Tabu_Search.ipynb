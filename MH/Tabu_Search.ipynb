{
  "nbformat": 4,
  "nbformat_minor": 0,
  "metadata": {
    "colab": {
      "provenance": [],
      "authorship_tag": "ABX9TyP37xGnjVGCWKOShIHZcUck",
      "include_colab_link": true
    },
    "kernelspec": {
      "name": "python3",
      "display_name": "Python 3"
    },
    "language_info": {
      "name": "python"
    }
  },
  "cells": [
    {
      "cell_type": "markdown",
      "metadata": {
        "id": "view-in-github",
        "colab_type": "text"
      },
      "source": [
        "<a href=\"https://colab.research.google.com/github/seungeunlee00/JUNIA/blob/main/MH/Tabu_Search.ipynb\" target=\"_parent\"><img src=\"https://colab.research.google.com/assets/colab-badge.svg\" alt=\"Open In Colab\"/></a>"
      ]
    },
    {
      "cell_type": "markdown",
      "source": [
        "# Tabu Search Algorithm(TS)"
      ],
      "metadata": {
        "id": "TUII09kKMmi0"
      }
    },
    {
      "cell_type": "code",
      "source": [
        "from google.colab import drive # 드라이브 마운트 필수\n",
        "drive.mount('/content/drive')"
      ],
      "metadata": {
        "colab": {
          "base_uri": "https://localhost:8080/"
        },
        "id": "UE0i1DTw9tgt",
        "outputId": "c7ddbe4c-5c31-4100-bc4e-2aab68451721"
      },
      "execution_count": 7,
      "outputs": [
        {
          "output_type": "stream",
          "name": "stdout",
          "text": [
            "Mounted at /content/drive\n"
          ]
        }
      ]
    },
    {
      "cell_type": "code",
      "source": [
        "# load data from tsp file\n",
        "import numpy as np\n",
        "\n",
        "tsp_data = np.loadtxt('/content/drive/MyDrive/Colab Notebooks/JUNIA/Metaheuristics/gr17.2085.tsp')\n",
        "print(tsp_data)"
      ],
      "metadata": {
        "colab": {
          "base_uri": "https://localhost:8080/"
        },
        "id": "qfA4zyx69rMM",
        "outputId": "05a533f1-478b-4488-aded-a82a00564dc6"
      },
      "execution_count": 8,
      "outputs": [
        {
          "output_type": "stream",
          "name": "stdout",
          "text": [
            "[[  0. 633. 257.  91. 412. 150.  80. 134. 259. 505. 353. 324.  70. 211.\n",
            "  268. 246. 121.]\n",
            " [633.   0. 390. 661. 227. 488. 572. 530. 555. 289. 282. 638. 567. 466.\n",
            "  420. 745. 518.]\n",
            " [257. 390.   0. 228. 169. 112. 196. 154. 372. 262. 110. 437. 191.  74.\n",
            "   53. 472. 142.]\n",
            " [ 91. 661. 228.   0. 383. 120.  77. 105. 175. 476. 324. 240.  27. 182.\n",
            "  239. 237.  84.]\n",
            " [412. 227. 169. 383.   0. 267. 351. 309. 338. 196.  61. 421. 346. 243.\n",
            "  199. 528. 297.]\n",
            " [150. 488. 112. 120. 267.   0.  63.  34. 264. 360. 208. 329.  83. 105.\n",
            "  123. 364.  35.]\n",
            " [ 80. 572. 196.  77. 351.  63.   0.  29. 232. 444. 292. 297.  47. 150.\n",
            "  207. 332.  29.]\n",
            " [134. 530. 154. 105. 309.  34.  29.   0. 249. 402. 250. 314.  68. 108.\n",
            "  165. 349.  36.]\n",
            " [259. 555. 372. 175. 338. 264. 232. 249.   0. 495. 352.  95. 189. 326.\n",
            "  383. 202. 236.]\n",
            " [505. 289. 262. 476. 196. 360. 444. 402. 495.   0. 154. 578. 439. 336.\n",
            "  240. 685. 390.]\n",
            " [353. 282. 110. 324.  61. 208. 292. 250. 352. 154.   0. 435. 287. 184.\n",
            "  140. 542. 238.]\n",
            " [324. 638. 437. 240. 421. 329. 297. 314.  95. 578. 435.   0. 254. 391.\n",
            "  448. 157. 301.]\n",
            " [ 70. 567. 191.  27. 346.  83.  47.  68. 189. 439. 287. 254.   0. 145.\n",
            "  202. 289.  55.]\n",
            " [211. 466.  74. 182. 243. 105. 150. 108. 326. 336. 184. 391. 145.   0.\n",
            "   57. 426.  96.]\n",
            " [268. 420.  53. 239. 199. 123. 207. 165. 383. 240. 140. 448. 202.  57.\n",
            "    0. 483. 153.]\n",
            " [246. 745. 472. 237. 528. 364. 332. 349. 202. 685. 542. 157. 289. 426.\n",
            "  483.   0. 336.]\n",
            " [121. 518. 142.  84. 297.  35.  29.  36. 236. 390. 238. 301.  55.  96.\n",
            "  153. 336.   0.]]\n"
          ]
        }
      ]
    },
    {
      "cell_type": "code",
      "execution_count": 9,
      "metadata": {
        "id": "825MPGLNuamk"
      },
      "outputs": [],
      "source": [
        "import queue\n",
        "\n",
        "def pickneighbor(s):\n",
        "    index = np.random.choice(range(17), 2, replace=False) # pick randomly 2 indices in [0,16]\n",
        "    s[index[0]],s[index[1]] = s[index[1]],s[index[0]] # swap values located at these indices\n",
        "    return s\n",
        "\n",
        "def objectivefunction(s):\n",
        "    cost = 0\n",
        "    for i in range(s.shape[0]-1):\n",
        "        cost = cost + tsp_data[s[i]][s[i+1]]\n",
        "    \n",
        "    cost = cost + tsp_data[s[-1]][s[0]]\n",
        "    return cost\n",
        "    \n",
        "def tabu_neighbor(s, tabu_list):\n",
        "    \n",
        "    for sol in tabu_list.queue:\n",
        "        if((sol==s).all()):\n",
        "            return True\n",
        "        \n",
        "    return False\n",
        "    \n",
        "def best_admessible_neighbor(s,tabu_list):\n",
        "   \n",
        "    while True:\n",
        "        neighbor_sol = pickneighbor(np.copy(s))\n",
        "        tabu = tabu_neighbor(neighbor_sol, tabu_list)\n",
        "        \n",
        "        if (objectivefunction(neighbor_sol)<objectivefunction(s)):\n",
        "            if tabu:\n",
        "                return neighbor_sol, True\n",
        "            else:\n",
        "                return neighbor_sol, False\n",
        "        else:\n",
        "            if not(tabu):\n",
        "                return neighbor_sol, False"
      ]
    },
    {
      "cell_type": "code",
      "source": [
        "import queue\n",
        "import matplotlib.pyplot as plt\n",
        "\n",
        "tabu_list = queue.Queue(5) # FIFO queue of 5 items max\n",
        "costs_hist = []\n",
        "\n",
        "# random initial solution and its cost\n",
        "s = np.random.choice(range(17), 17, replace=False) #cities in [0,16]\n",
        "cost_s = objectivefunction(s)\n",
        "# update tabu list\n",
        "tabu_list.put(np.copy(s))\n",
        "# save history of costs\n",
        "costs_hist.append(cost_s)\n",
        "# consider solution s as the best solution for now\n",
        "best_s = np.copy(s) # hard copy\n",
        "best_cost = cost_s\n",
        "total_it = 0 # max iterations\n",
        "while total_it < 5000:\n",
        "    adm_s, tabu = best_admessible_neighbor(np.copy(s),tabu_list)\n",
        "    cost_adm_s = objectivefunction(adm_s)\n",
        "    costs_hist.append(cost_adm_s)\n",
        "    \n",
        "    # update s\n",
        "    s = np.copy(adm_s)\n",
        "    \n",
        "    if (not(tabu)): # adm_s not satisfying an aspiration criterion\n",
        "        \n",
        "        if (best_cost > cost_adm_s): # update best sol if necessary\n",
        "                best_s = np.copy(adm_s) # update best solution\n",
        "                best_cost = cost_adm_s\n",
        "        \n",
        "        # update tabu list by adding adm_s as a visited solution\n",
        "        if not(tabu_list.full()): \n",
        "            tabu_list.put(np.copy(adm_s))\n",
        "        else:\n",
        "            tabu_list.get() # get an item to free a place\n",
        "            tabu_list.put(np.copy(adm_s))\n",
        "            \n",
        "    total_it = total_it+1\n",
        "        \n",
        "    \n",
        "    \n",
        "print ('best sol, cost {} {}'.format(best_s,best_cost))"
      ],
      "metadata": {
        "colab": {
          "base_uri": "https://localhost:8080/"
        },
        "id": "UybElC8m8pIg",
        "outputId": "ff82e399-159a-43f6-ebb9-4f751d27bcd5"
      },
      "execution_count": 10,
      "outputs": [
        {
          "output_type": "stream",
          "name": "stdout",
          "text": [
            "best sol, cost [10  8 11  7 14 13  0 15 12  6 16  3  5  2  9  4  1] 3088.0\n"
          ]
        }
      ]
    }
  ]
}