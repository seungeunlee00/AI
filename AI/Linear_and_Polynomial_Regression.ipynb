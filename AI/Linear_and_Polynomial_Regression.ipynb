{
  "nbformat": 4,
  "nbformat_minor": 0,
  "metadata": {
    "colab": {
      "provenance": [],
      "mount_file_id": "15iNvaKZ4NawM5S-k0BEJ5k79YLIaWrsv",
      "authorship_tag": "ABX9TyOeEIZ/M/JqhtVjOMjqRCa1",
      "include_colab_link": true
    },
    "kernelspec": {
      "name": "python3",
      "display_name": "Python 3"
    },
    "language_info": {
      "name": "python"
    }
  },
  "cells": [
    {
      "cell_type": "markdown",
      "metadata": {
        "id": "view-in-github",
        "colab_type": "text"
      },
      "source": [
        "<a href=\"https://colab.research.google.com/github/seungeunlee00/JUNIA/blob/main/AI/Linear_and_Polynomial_Regression.ipynb\" target=\"_parent\"><img src=\"https://colab.research.google.com/assets/colab-badge.svg\" alt=\"Open In Colab\"/></a>"
      ]
    },
    {
      "cell_type": "markdown",
      "source": [
        "Supervised Learning(지도학습)\n",
        "> 정답을 알려주면서 진행하는 학습\n",
        "\n",
        "> 데이터와 레이블(정답)이 함께 제공됨"
      ],
      "metadata": {
        "id": "cTMr9JcRGr3-"
      }
    },
    {
      "cell_type": "markdown",
      "source": [
        "지도학습 모델 종류\n",
        "> Classification (분류 모델):\n",
        "레이블의 값들이 이산적으로 나눠질 수 있는 문제에 사용\n",
        "\n",
        "> Regression (예측 모델, 회귀 모델):\n",
        "레이블의 값들이 연속적인 문제에 사용"
      ],
      "metadata": {
        "id": "9nyHmL01G6NN"
      }
    },
    {
      "cell_type": "markdown",
      "source": [
        "# **Linear Regression(선형 회귀)**"
      ],
      "metadata": {
        "id": "tgktWQO7E70-"
      }
    },
    {
      "cell_type": "markdown",
      "source": [
        "https://scikit-learn.org/stable/modules/generated/sklearn.linear_model.LinearRegression.html"
      ],
      "metadata": {
        "id": "YicMjOi3GLgH"
      }
    },
    {
      "cell_type": "code",
      "execution_count": null,
      "metadata": {
        "colab": {
          "base_uri": "https://localhost:8080/"
        },
        "id": "QJDmHhOcEWOs",
        "outputId": "0286e4dc-4961-404d-e3e6-03e699dae8d9"
      },
      "outputs": [
        {
          "output_type": "execute_result",
          "data": {
            "text/plain": [
              "array([ 6,  8,  9, 11])"
            ]
          },
          "metadata": {},
          "execution_count": 17
        }
      ],
      "source": [
        "import numpy as np\n",
        "from sklearn.linear_model import LinearRegression\n",
        "\n",
        "X = np.array([[1, 1], [1, 2], [2, 2], [2, 3]]) # data\n",
        "# y = 1 * x_0 + 2 * x_1 + 3\n",
        "y = np.dot(X, np.array([1, 2])) + 3\n",
        "y # lable(정답, 실제값)"
      ]
    },
    {
      "cell_type": "code",
      "source": [
        "reg = LinearRegression()\n",
        "reg.fit(X, y)\n",
        "reg.score(X, y) # 성능 평가"
      ],
      "metadata": {
        "colab": {
          "base_uri": "https://localhost:8080/"
        },
        "id": "qa9PvJXDEzS6",
        "outputId": "dc6cfd11-bbd1-49ef-a5af-3151902974d3"
      },
      "execution_count": null,
      "outputs": [
        {
          "output_type": "execute_result",
          "data": {
            "text/plain": [
              "1.0"
            ]
          },
          "metadata": {},
          "execution_count": 19
        }
      ]
    },
    {
      "cell_type": "code",
      "source": [
        "reg.coef_ # coefficient: 계수, 가중치"
      ],
      "metadata": {
        "colab": {
          "base_uri": "https://localhost:8080/"
        },
        "id": "ygcfcwqXE3Ac",
        "outputId": "4b4dadc7-7e9a-43cc-aba1-215cc00a8597"
      },
      "execution_count": null,
      "outputs": [
        {
          "output_type": "execute_result",
          "data": {
            "text/plain": [
              "array([1., 2.])"
            ]
          },
          "metadata": {},
          "execution_count": 20
        }
      ]
    },
    {
      "cell_type": "code",
      "source": [
        "reg.intercept_ # intercept: 절편, 편향"
      ],
      "metadata": {
        "colab": {
          "base_uri": "https://localhost:8080/"
        },
        "id": "AUCnbhWhE4yk",
        "outputId": "14fba1f5-38b4-4b1c-ef81-259fd71481ad"
      },
      "execution_count": null,
      "outputs": [
        {
          "output_type": "execute_result",
          "data": {
            "text/plain": [
              "3.0000000000000018"
            ]
          },
          "metadata": {},
          "execution_count": 21
        }
      ]
    },
    {
      "cell_type": "markdown",
      "source": [
        "y = 1 * x0 + 2 * x1 + 3라는 선형 회귀 모델을 얻을 수 있음"
      ],
      "metadata": {
        "id": "VXe6ejh_j3Sq"
      }
    },
    {
      "cell_type": "code",
      "source": [
        "reg.predict(np.array([[3, 5]]))\n",
        "# 1 * 3 + 2 * 5 + 3 = 16"
      ],
      "metadata": {
        "colab": {
          "base_uri": "https://localhost:8080/"
        },
        "id": "Kff9eSqME63K",
        "outputId": "9c5fa7f5-44c4-432c-e53b-25bdb9e7a152"
      },
      "execution_count": null,
      "outputs": [
        {
          "output_type": "execute_result",
          "data": {
            "text/plain": [
              "array([16.])"
            ]
          },
          "metadata": {},
          "execution_count": 22
        }
      ]
    },
    {
      "cell_type": "markdown",
      "source": [
        "https://scikit-learn.org/stable/auto_examples/linear_model/plot_ols.html#sphx-glr-auto-examples-linear-model-plot-ols-py"
      ],
      "metadata": {
        "id": "-KFjNkhLGVtl"
      }
    },
    {
      "cell_type": "code",
      "source": [
        "import matplotlib.pyplot as plt\n",
        "import numpy as np\n",
        "from sklearn import datasets, linear_model\n",
        "from sklearn.metrics import mean_squared_error, r2_score\n",
        "\n",
        "# Load the diabetes dataset\n",
        "diabetes_X, diabetes_y = datasets.load_diabetes(return_X_y=True)\n",
        "\n",
        "# Use only one feature\n",
        "diabetes_X = diabetes_X[:, np.newaxis, 2]\n",
        "\n",
        "# Split the data into training/testing sets\n",
        "diabetes_X_train = diabetes_X[:-20]\n",
        "diabetes_X_test = diabetes_X[-20:]\n",
        "\n",
        "# Split the targets into training/testing sets\n",
        "diabetes_y_train = diabetes_y[:-20]\n",
        "diabetes_y_test = diabetes_y[-20:]\n",
        "\n",
        "# Create linear regression object\n",
        "regr = linear_model.LinearRegression()\n",
        "\n",
        "# Train the model using the training sets\n",
        "regr.fit(diabetes_X_train, diabetes_y_train)\n",
        "\n",
        "# Make predictions using the testing set\n",
        "diabetes_y_pred = regr.predict(diabetes_X_test)\n",
        "\n",
        "# The coefficients\n",
        "print(\"Coefficients: \\n\", regr.coef_)\n",
        "# The mean squared error\n",
        "print(\"Mean squared error: %.2f\" % mean_squared_error(diabetes_y_test, diabetes_y_pred))\n",
        "# The coefficient of determination: 1 is perfect prediction\n",
        "print(\"Coefficient of determination: %.2f\" % r2_score(diabetes_y_test, diabetes_y_pred))\n",
        "\n",
        "# Plot outputs\n",
        "plt.scatter(diabetes_X_test, diabetes_y_test, color=\"black\")\n",
        "plt.plot(diabetes_X_test, diabetes_y_pred, color=\"blue\", linewidth=3)\n",
        "\n",
        "plt.xticks(())\n",
        "plt.yticks(())\n",
        "\n",
        "plt.show()"
      ],
      "metadata": {
        "colab": {
          "base_uri": "https://localhost:8080/",
          "height": 325
        },
        "id": "jpSs-yvNGZ0A",
        "outputId": "ba93e20f-2b25-46fb-cbf9-b380e1b4bc57"
      },
      "execution_count": null,
      "outputs": [
        {
          "output_type": "stream",
          "name": "stdout",
          "text": [
            "Coefficients: \n",
            " [938.23786125]\n",
            "Mean squared error: 2548.07\n",
            "Coefficient of determination: 0.47\n"
          ]
        },
        {
          "output_type": "display_data",
          "data": {
            "text/plain": [
              "<Figure size 432x288 with 1 Axes>"
            ],
            "image/png": "[encoded data removed]"
          },
          "metadata": {}
        }
      ]
    },
    {
      "cell_type": "markdown",
      "source": [
        "**Confusion Matrix**\n",
        "\n",
        "TP: True를 True로 예측(정답)\n",
        "\n",
        "TN: False를 False로 예측(정답)\n",
        "\n",
        "FP: False를 True로 예측(오답)\n",
        "\n",
        "FN: True를 False로 예측(오답)\n",
        "\n",
        "맞느냐 틀렸느냐 -> T N <- 예측한 값"
      ],
      "metadata": {
        "id": "fBitz6FmSlhk"
      }
    },
    {
      "cell_type": "markdown",
      "source": [
        "> Precision(정밀도)=TP/(TP+FP): 모델이 True라고 분류한 것 중에서 실제로 True인 것의 비율\n",
        "\n",
        "> Recall(재현율)=TP/(TP+FN): 실제 True인 것 중에서 모델이 True라고 예측한 것의 비율\n",
        "\n",
        "> Accurancy(정확도)=(TP+TN)/(TP+FN+FP+TN)\n",
        ": 가장 직관적으로 모델의 성능을 나타낼 수 있는 평가 지표"
      ],
      "metadata": {
        "id": "m9nTC6F2Sr5t"
      }
    },
    {
      "cell_type": "code",
      "source": [
        "코드"
      ],
      "metadata": {
        "id": "yZ9lLt_9T9a-"
      },
      "execution_count": null,
      "outputs": []
    },
    {
      "cell_type": "markdown",
      "source": [
        "**Decision Tree - Iris Classification**"
      ],
      "metadata": {
        "id": "le0r1Y1OedG2"
      }
    },
    {
      "cell_type": "code",
      "source": [
        "from sklearn import datasets\n",
        "from sklearn.model_selection import train_test_split\n",
        "from sklearn import tree\n",
        "from sklearn.metrics import accuracy_score\n",
        "\n",
        "iris=datasets.load_iris()\n",
        "x=iris.data\n",
        "y=iris.target\n",
        "\n",
        "# spilitting the dataset\n",
        "x_train,x_test,y_train,y_test=train_test_split(x,y,test_size=.5)\n",
        "\n",
        "# build the model\n",
        "classifier=tree.DecisionTreeClassifier()\n",
        "\n",
        "# train the model\n",
        "classifier.fit(x_train,y_train)\n",
        "\n",
        "# make predictions\n",
        "predictions=classifier.predict(x_test)\n",
        "print(\"Accuracy: \" + str(accuracy_score(y_test,predictions)))"
      ],
      "metadata": {
        "colab": {
          "base_uri": "https://localhost:8080/"
        },
        "id": "LLxpqp7efMjJ",
        "outputId": "cd5e05cf-79a9-4548-fd1d-cc462df1016a"
      },
      "execution_count": null,
      "outputs": [
        {
          "output_type": "stream",
          "name": "stdout",
          "text": [
            "Accuracy: 0.96\n"
          ]
        }
      ]
    },
    {
      "cell_type": "markdown",
      "source": [
        "# **Linear and Polynomial Regression**\n",
        "    \n",
        "Linear :\n",
        "\n",
        "y = -0.052x + 62.561\n",
        "\n",
        "Polynomial with deg 2\n",
        "\n",
        "y = 0.0214x2 - 2.1948x + 96,306"
      ],
      "metadata": {
        "id": "kL-GQH8agn9C"
      }
    },
    {
      "cell_type": "code",
      "source": [
        "import numpy as np\n",
        "import matplotlib.pyplot as plt\n",
        "from sklearn import linear_model"
      ],
      "metadata": {
        "id": "VeYBXepYgtES"
      },
      "execution_count": null,
      "outputs": []
    },
    {
      "cell_type": "code",
      "source": [
        "f=open('/content/drive/MyDrive/Colab Notebooks/JUNIA/AI/regression-example-data.csv') # 드라이브 마운트 필수\n",
        "data=np.loadtxt(f, delimiter=\";\")\n",
        "print(data.shape)"
      ],
      "metadata": {
        "colab": {
          "base_uri": "https://localhost:8080/"
        },
        "id": "XbK062AuhEHI",
        "outputId": "f3144b4e-1607-43da-fdc4-7763fa2e7bb8"
      },
      "execution_count": null,
      "outputs": [
        {
          "output_type": "stream",
          "name": "stdout",
          "text": [
            "(150, 2)\n"
          ]
        }
      ]
    },
    {
      "cell_type": "code",
      "source": [
        "X=data[:,0] # first column\n",
        "Y=data[:,1] # second column"
      ],
      "metadata": {
        "id": "wPfRoRQNhSni"
      },
      "execution_count": null,
      "outputs": []
    },
    {
      "cell_type": "code",
      "source": [
        "plt.scatter (X, Y)"
      ],
      "metadata": {
        "id": "ObCVilDriA8L",
        "colab": {
          "base_uri": "https://localhost:8080/",
          "height": 283
        },
        "outputId": "10eab1b0-7ce9-4e8c-c2ba-9eb5bb3dc6a1"
      },
      "execution_count": null,
      "outputs": [
        {
          "output_type": "execute_result",
          "data": {
            "text/plain": [
              "<matplotlib.collections.PathCollection at 0x7f4e1c5b7730>"
            ]
          },
          "metadata": {},
          "execution_count": 49
        },
        {
          "output_type": "display_data",
          "data": {
            "text/plain": [
              "<Figure size 432x288 with 1 Axes>"
            ],
            "image/png": "[encoded data removed]"
          },
          "metadata": {
            "needs_background": "light"
          }
        }
      ]
    },
    {
      "cell_type": "code",
      "source": [
        "reg = linear_model.LinearRegression()"
      ],
      "metadata": {
        "id": "kiFVuGE_itFn"
      },
      "execution_count": null,
      "outputs": []
    },
    {
      "cell_type": "code",
      "source": [
        "print (X)"
      ],
      "metadata": {
        "colab": {
          "base_uri": "https://localhost:8080/"
        },
        "id": "Xy6261jq2i1m",
        "outputId": "e01fc50e-21c7-47d7-b509-3b895185a2f1"
      },
      "execution_count": null,
      "outputs": [
        {
          "output_type": "stream",
          "name": "stdout",
          "text": [
            "[84.359  72.8205 96.4103  7.1795 10.2564  5.8974 76.4103 75.641  73.3333\n",
            " 21.5385 38.9744 18.9744 16.9231 85.3846  9.2308 34.359  89.7436 10.5128\n",
            " 15.8974 80.2564 85.641   7.4359 30.2564 76.4103  6.6667 19.4872 31.7949\n",
            " 93.3333 15.3846 73.0769 82.3077 13.0769 12.5641 55.8974 91.2821 34.8718\n",
            " 24.1026 11.7949 79.7436 68.7179 90.2564 12.8205 38.4615 16.4103 87.4359\n",
            " 11.5385 98.4615 33.0769 26.4103  5.641   9.2308 91.2821 38.9744 83.8462\n",
            " 84.6154 68.7179 12.3077 28.7179 27.4359 75.8974 12.3077 89.7436 20.2564\n",
            " 18.9744 83.5897 50.7692 97.9487 22.8205 68.2051 16.9231 21.7949 30.7692\n",
            " 16.9231 54.8718 85.3846 78.2051 39.7436 92.3077 42.3077 78.2051 91.2821\n",
            " 20.     36.9231 74.359  67.6923 10.7692 84.1026 75.8974 93.8462 73.8462\n",
            "  7.1795 87.1795 60.5128  3.5897 14.359  65.8974 70.     80.2564 24.8718\n",
            " 35.641  64.1026 60.7692 84.6154 17.6923 21.2821 64.6154 30.5128 70.2564\n",
            " 27.1795 82.0513 26.4103  8.4615 52.0513 36.4103 22.3077 17.9487 44.8718\n",
            " 29.7436 27.6923 63.5897 67.4359 14.6154 72.8205 28.4615 66.6667 61.0256\n",
            "  4.8718  4.6154 22.0513 78.4615 88.2051 32.8205 97.6923 79.4872 87.9487\n",
            "  2.5641 29.2308 25.641  20.2564 23.0769 97.1795 93.5897 35.8974 64.359\n",
            " 23.8462 67.9487 85.641  72.5641 82.5641 37.4359]\n"
          ]
        }
      ]
    },
    {
      "cell_type": "code",
      "source": [
        "print (X.shape)"
      ],
      "metadata": {
        "colab": {
          "base_uri": "https://localhost:8080/"
        },
        "id": "Akem0xsvBKRL",
        "outputId": "7d733266-46de-4c40-bf11-c8e3fa9af8b2"
      },
      "execution_count": null,
      "outputs": [
        {
          "output_type": "stream",
          "name": "stdout",
          "text": [
            "(150,)\n"
          ]
        }
      ]
    },
    {
      "cell_type": "code",
      "source": [
        "# convert X from 1D to 2D\n",
        "X = X.reshape(-1, 1) # reshape(150, 1)과 동일 (-1은 배열의 길이인 150을 모를 때 알아서 추측해라~라는 뜻)\n",
        "print (X)"
      ],
      "metadata": {
        "id": "GgziwhAJjFb7",
        "colab": {
          "base_uri": "https://localhost:8080/"
        },
        "outputId": "11ce2766-54ae-4502-b772-ef038d3fbadc"
      },
      "execution_count": null,
      "outputs": [
        {
          "output_type": "stream",
          "name": "stdout",
          "text": [
            "[[84.359 ]\n",
            " [72.8205]\n",
            " [96.4103]\n",
            " [ 7.1795]\n",
            " [10.2564]\n",
            " [ 5.8974]\n",
            " [76.4103]\n",
            " [75.641 ]\n",
            " [73.3333]\n",
            " [21.5385]\n",
            " [38.9744]\n",
            " [18.9744]\n",
            " [16.9231]\n",
            " [85.3846]\n",
            " [ 9.2308]\n",
            " [34.359 ]\n",
            " [89.7436]\n",
            " [10.5128]\n",
            " [15.8974]\n",
            " [80.2564]\n",
            " [85.641 ]\n",
            " [ 7.4359]\n",
            " [30.2564]\n",
            " [76.4103]\n",
            " [ 6.6667]\n",
            " [19.4872]\n",
            " [31.7949]\n",
            " [93.3333]\n",
            " [15.3846]\n",
            " [73.0769]\n",
            " [82.3077]\n",
            " [13.0769]\n",
            " [12.5641]\n",
            " [55.8974]\n",
            " [91.2821]\n",
            " [34.8718]\n",
            " [24.1026]\n",
            " [11.7949]\n",
            " [79.7436]\n",
            " [68.7179]\n",
            " [90.2564]\n",
            " [12.8205]\n",
            " [38.4615]\n",
            " [16.4103]\n",
            " [87.4359]\n",
            " [11.5385]\n",
            " [98.4615]\n",
            " [33.0769]\n",
            " [26.4103]\n",
            " [ 5.641 ]\n",
            " [ 9.2308]\n",
            " [91.2821]\n",
            " [38.9744]\n",
            " [83.8462]\n",
            " [84.6154]\n",
            " [68.7179]\n",
            " [12.3077]\n",
            " [28.7179]\n",
            " [27.4359]\n",
            " [75.8974]\n",
            " [12.3077]\n",
            " [89.7436]\n",
            " [20.2564]\n",
            " [18.9744]\n",
            " [83.5897]\n",
            " [50.7692]\n",
            " [97.9487]\n",
            " [22.8205]\n",
            " [68.2051]\n",
            " [16.9231]\n",
            " [21.7949]\n",
            " [30.7692]\n",
            " [16.9231]\n",
            " [54.8718]\n",
            " [85.3846]\n",
            " [78.2051]\n",
            " [39.7436]\n",
            " [92.3077]\n",
            " [42.3077]\n",
            " [78.2051]\n",
            " [91.2821]\n",
            " [20.    ]\n",
            " [36.9231]\n",
            " [74.359 ]\n",
            " [67.6923]\n",
            " [10.7692]\n",
            " [84.1026]\n",
            " [75.8974]\n",
            " [93.8462]\n",
            " [73.8462]\n",
            " [ 7.1795]\n",
            " [87.1795]\n",
            " [60.5128]\n",
            " [ 3.5897]\n",
            " [14.359 ]\n",
            " [65.8974]\n",
            " [70.    ]\n",
            " [80.2564]\n",
            " [24.8718]\n",
            " [35.641 ]\n",
            " [64.1026]\n",
            " [60.7692]\n",
            " [84.6154]\n",
            " [17.6923]\n",
            " [21.2821]\n",
            " [64.6154]\n",
            " [30.5128]\n",
            " [70.2564]\n",
            " [27.1795]\n",
            " [82.0513]\n",
            " [26.4103]\n",
            " [ 8.4615]\n",
            " [52.0513]\n",
            " [36.4103]\n",
            " [22.3077]\n",
            " [17.9487]\n",
            " [44.8718]\n",
            " [29.7436]\n",
            " [27.6923]\n",
            " [63.5897]\n",
            " [67.4359]\n",
            " [14.6154]\n",
            " [72.8205]\n",
            " [28.4615]\n",
            " [66.6667]\n",
            " [61.0256]\n",
            " [ 4.8718]\n",
            " [ 4.6154]\n",
            " [22.0513]\n",
            " [78.4615]\n",
            " [88.2051]\n",
            " [32.8205]\n",
            " [97.6923]\n",
            " [79.4872]\n",
            " [87.9487]\n",
            " [ 2.5641]\n",
            " [29.2308]\n",
            " [25.641 ]\n",
            " [20.2564]\n",
            " [23.0769]\n",
            " [97.1795]\n",
            " [93.5897]\n",
            " [35.8974]\n",
            " [64.359 ]\n",
            " [23.8462]\n",
            " [67.9487]\n",
            " [85.641 ]\n",
            " [72.5641]\n",
            " [82.5641]\n",
            " [37.4359]]\n"
          ]
        }
      ]
    },
    {
      "cell_type": "code",
      "source": [
        "reg.fit(X,Y)"
      ],
      "metadata": {
        "colab": {
          "base_uri": "https://localhost:8080/"
        },
        "id": "-q-nRtPD2W7p",
        "outputId": "b12667a9-6c3b-431b-96ab-47a263b2297d"
      },
      "execution_count": null,
      "outputs": [
        {
          "output_type": "execute_result",
          "data": {
            "text/plain": [
              "LinearRegression()"
            ]
          },
          "metadata": {},
          "execution_count": 54
        }
      ]
    },
    {
      "cell_type": "code",
      "source": [
        "reg.coef_ # coefficient: 계수, 가중치"
      ],
      "metadata": {
        "id": "brvYFsvYkfd7",
        "colab": {
          "base_uri": "https://localhost:8080/"
        },
        "outputId": "e895db28-408c-43ac-95b3-272f93bd297d"
      },
      "execution_count": null,
      "outputs": [
        {
          "output_type": "execute_result",
          "data": {
            "text/plain": [
              "array([-0.05203966])"
            ]
          },
          "metadata": {},
          "execution_count": 55
        }
      ]
    },
    {
      "cell_type": "code",
      "source": [
        "reg.intercept_ # intercept: 절편, 편향"
      ],
      "metadata": {
        "colab": {
          "base_uri": "https://localhost:8080/"
        },
        "id": "LITULYbPbOQV",
        "outputId": "ffc2a0cb-bc53-4df1-ec39-b56ded1d05aa"
      },
      "execution_count": null,
      "outputs": [
        {
          "output_type": "execute_result",
          "data": {
            "text/plain": [
              "62.5612467676423"
            ]
          },
          "metadata": {},
          "execution_count": 56
        }
      ]
    },
    {
      "cell_type": "code",
      "source": [
        "Y_predicted = reg.predict(X)"
      ],
      "metadata": {
        "id": "Kv_k6raO-k65"
      },
      "execution_count": null,
      "outputs": []
    },
    {
      "cell_type": "code",
      "source": [
        "for i in range (X.size):\n",
        "    plt.plot( (X[i],X[i]) , (Y[i],Y_predicted[i]) ,c='gray')\n",
        "    \n",
        "plt.scatter (X, Y_predicted)\n",
        "plt.scatter (X, Y)"
      ],
      "metadata": {
        "colab": {
          "base_uri": "https://localhost:8080/",
          "height": 283
        },
        "id": "-wdBUiVn-oeD",
        "outputId": "f0fb6a46-3b74-4191-d464-40f1f8707035"
      },
      "execution_count": null,
      "outputs": [
        {
          "output_type": "execute_result",
          "data": {
            "text/plain": [
              "<matplotlib.collections.PathCollection at 0x7f4e1c3914f0>"
            ]
          },
          "metadata": {},
          "execution_count": 58
        },
        {
          "output_type": "display_data",
          "data": {
            "text/plain": [
              "<Figure size 432x288 with 1 Axes>"
            ],
            "image/png": "[encoded data removed]"
          },
          "metadata": {
            "needs_background": "light"
          }
        }
      ]
    },
    {
      "cell_type": "markdown",
      "source": [
        "y = -0.052x + 62.561라는 선형 회귀 모델을 얻을 수 있음 (엑셀 추세선 식과 동일)"
      ],
      "metadata": {
        "id": "AAh8_qjkkN5b"
      }
    },
    {
      "cell_type": "markdown",
      "source": [
        "# **Polynomial Model**"
      ],
      "metadata": {
        "id": "ObrLhxd64CWA"
      }
    },
    {
      "cell_type": "code",
      "source": [
        "from sklearn.preprocessing import PolynomialFeatures\n",
        "from sklearn.pipeline import make_pipeline\n",
        "from sklearn.linear_model import Ridge\n",
        "\n",
        "poly = make_pipeline(PolynomialFeatures(degree=2), Ridge())\n",
        "poly.fit(X, Y)"
      ],
      "metadata": {
        "colab": {
          "base_uri": "https://localhost:8080/"
        },
        "id": "Mm-lBHVq4SKQ",
        "outputId": "64b6aa28-787d-4800-b043-e3ce3eeb4e5f"
      },
      "execution_count": null,
      "outputs": [
        {
          "output_type": "execute_result",
          "data": {
            "text/plain": [
              "Pipeline(steps=[('polynomialfeatures', PolynomialFeatures()),\n",
              "                ('ridge', Ridge())])"
            ]
          },
          "metadata": {},
          "execution_count": 59
        }
      ]
    },
    {
      "cell_type": "code",
      "source": [
        "poly.predict([[150],[50]])"
      ],
      "metadata": {
        "colab": {
          "base_uri": "https://localhost:8080/"
        },
        "id": "NGAjZ1RD-vxW",
        "outputId": "fe3fe64c-f9d7-49ad-c501-af19f3150c5e"
      },
      "execution_count": null,
      "outputs": [
        {
          "output_type": "execute_result",
          "data": {
            "text/plain": [
              "array([247.98385251,  40.00563744])"
            ]
          },
          "metadata": {},
          "execution_count": 60
        }
      ]
    },
    {
      "cell_type": "code",
      "source": [
        "#for i in range (X.size):\n",
        "#    plt.plot( (X[i],X[i]) , (Y[i],Y_predicted_poly[i]) ,c='gray')\n",
        "    \n",
        "plt.scatter (X, Y)\n",
        "\n",
        "# This time we choose to display a line instead of a set of predicted points\n",
        "x_plot = np.linspace(0, 100, 100)\n",
        "X_plot = x_plot[:, np.newaxis]  # Same as reshape(-1,1)\n",
        "Y_predicted_poly = poly.predict(X_plot)\n",
        "\n",
        "plt.plot (X_plot, Y_predicted_poly, c=\"red\")"
      ],
      "metadata": {
        "colab": {
          "base_uri": "https://localhost:8080/",
          "height": 283
        },
        "id": "JOtaAI0k-xNQ",
        "outputId": "0054ce71-8d3e-4a4b-88ff-19232cc48667"
      },
      "execution_count": null,
      "outputs": [
        {
          "output_type": "execute_result",
          "data": {
            "text/plain": [
              "[<matplotlib.lines.Line2D at 0x7f4e1c31b940>]"
            ]
          },
          "metadata": {},
          "execution_count": 61
        },
        {
          "output_type": "display_data",
          "data": {
            "text/plain": [
              "<Figure size 432x288 with 1 Axes>"
            ],
            "image/png": "[encoded data removed]"
          },
          "metadata": {
            "needs_background": "light"
          }
        }
      ]
    },
    {
      "cell_type": "code",
      "source": [
        "poly.steps[1][1].coef_"
      ],
      "metadata": {
        "colab": {
          "base_uri": "https://localhost:8080/"
        },
        "id": "U_c2IfnB_Bw-",
        "outputId": "c19747b2-66b2-428a-ccfc-81bcf3ebba3a"
      },
      "execution_count": null,
      "outputs": [
        {
          "output_type": "execute_result",
          "data": {
            "text/plain": [
              "array([ 0.        , -2.19443643,  0.02137109])"
            ]
          },
          "metadata": {},
          "execution_count": 62
        }
      ]
    },
    {
      "cell_type": "code",
      "source": [
        "poly.steps[1][1].intercept_"
      ],
      "metadata": {
        "colab": {
          "base_uri": "https://localhost:8080/"
        },
        "id": "5FnY-K-E_DCf",
        "outputId": "16f91d92-9a03-4824-a613-760fb4c990c2"
      },
      "execution_count": null,
      "outputs": [
        {
          "output_type": "execute_result",
          "data": {
            "text/plain": [
              "96.29972660444793"
            ]
          },
          "metadata": {},
          "execution_count": 63
        }
      ]
    },
    {
      "cell_type": "markdown",
      "source": [
        "# **Exercice** :\n",
        "Split the data into two groups (X<50 and X>=50) and apply a linear regression for each group.\n"
      ],
      "metadata": {
        "id": "iqDsuwaH_F1x"
      }
    },
    {
      "cell_type": "code",
      "source": [
        "import numpy as np\n",
        "import matplotlib.pyplot as plt\n",
        "from sklearn import linear_model\n",
        "\n",
        "f=open('/content/drive/MyDrive/Colab Notebooks/JUNIA/AI/regression-example-data.csv') # 드라이브 마운트 필수\n",
        "data=np.loadtxt(f, delimiter=\";\")\n",
        "print(data.shape)"
      ],
      "metadata": {
        "colab": {
          "base_uri": "https://localhost:8080/"
        },
        "id": "wWbhL4rB_Ipp",
        "outputId": "cd14d0bc-8bb8-4c5a-9603-f17bf58ce403"
      },
      "execution_count": null,
      "outputs": [
        {
          "output_type": "stream",
          "name": "stdout",
          "text": [
            "(150, 2)\n"
          ]
        }
      ]
    },
    {
      "cell_type": "code",
      "source": [
        "X=data[:,0] # first column\n",
        "Y=data[:,1] # second column\n",
        "\n",
        "plt.scatter (X, Y)"
      ],
      "metadata": {
        "colab": {
          "base_uri": "https://localhost:8080/",
          "height": 283
        },
        "id": "DEx3pB5U_MXj",
        "outputId": "dfd34085-73b5-4c68-b233-47d2468b58da"
      },
      "execution_count": null,
      "outputs": [
        {
          "output_type": "execute_result",
          "data": {
            "text/plain": [
              "<matplotlib.collections.PathCollection at 0x7f4e1c7b8b80>"
            ]
          },
          "metadata": {},
          "execution_count": 66
        },
        {
          "output_type": "display_data",
          "data": {
            "text/plain": [
              "<Figure size 432x288 with 1 Axes>"
            ],
            "image/png": "[encoded data removed]"
          },
          "metadata": {
            "needs_background": "light"
          }
        }
      ]
    },
    {
      "cell_type": "code",
      "source": [
        "X_small = X[X<50] # Split the data\n",
        "X_large = X[X>=50]\n",
        "\n",
        "Y_small = Y[X<50]\n",
        "Y_large = Y[X>=50]\n",
        "\n",
        "plt.scatter(X_small, Y_small)\n",
        "plt.scatter(X_large, Y_large)"
      ],
      "metadata": {
        "colab": {
          "base_uri": "https://localhost:8080/",
          "height": 283
        },
        "id": "ii4JjwdOB0Oa",
        "outputId": "0916f457-f481-46c0-b90f-9391487d45ab"
      },
      "execution_count": null,
      "outputs": [
        {
          "output_type": "execute_result",
          "data": {
            "text/plain": [
              "<matplotlib.collections.PathCollection at 0x7f4e1c69af70>"
            ]
          },
          "metadata": {},
          "execution_count": 71
        },
        {
          "output_type": "display_data",
          "data": {
            "text/plain": [
              "<Figure size 432x288 with 1 Axes>"
            ],
            "image/png": "[encoded data removed]"
          },
          "metadata": {
            "needs_background": "light"
          }
        }
      ]
    },
    {
      "cell_type": "code",
      "source": [
        "reg = linear_model.LinearRegression() # build the model"
      ],
      "metadata": {
        "id": "K77oSaxgCnSv"
      },
      "execution_count": null,
      "outputs": []
    },
    {
      "cell_type": "code",
      "source": [
        "X_small = X_small.reshape(-1, 1) # convert X from 1D to 2D\n",
        "X_large = X_large.reshape(-1, 1)"
      ],
      "metadata": {
        "id": "oDNLGSdkDIwY"
      },
      "execution_count": null,
      "outputs": []
    },
    {
      "cell_type": "code",
      "source": [
        "reg.fit(X_small, Y_small) # train the model"
      ],
      "metadata": {
        "colab": {
          "base_uri": "https://localhost:8080/"
        },
        "id": "ThfYY_UkCy-4",
        "outputId": "1a08c7fe-f5eb-4a6d-c806-8c4eab1df93f"
      },
      "execution_count": null,
      "outputs": [
        {
          "output_type": "execute_result",
          "data": {
            "text/plain": [
              "LinearRegression()"
            ]
          },
          "metadata": {},
          "execution_count": 75
        }
      ]
    },
    {
      "cell_type": "code",
      "source": [
        "reg.score(X_small, Y_small) # 성능 평가"
      ],
      "metadata": {
        "colab": {
          "base_uri": "https://localhost:8080/"
        },
        "id": "S45TNX22C4_o",
        "outputId": "ddb236d6-29c3-49ab-caa0-e231c3f1ff87"
      },
      "execution_count": null,
      "outputs": [
        {
          "output_type": "execute_result",
          "data": {
            "text/plain": [
              "89.01906339020276"
            ]
          },
          "metadata": {},
          "execution_count": 77
        }
      ]
    },
    {
      "cell_type": "code",
      "source": [
        "reg.coef_ # coefficient: 계수, 가중치"
      ],
      "metadata": {
        "colab": {
          "base_uri": "https://localhost:8080/"
        },
        "id": "MU3uW8v6Dep6",
        "outputId": "ac960f8e-65a0-4dd8-a56f-40c476118043"
      },
      "execution_count": null,
      "outputs": [
        {
          "output_type": "execute_result",
          "data": {
            "text/plain": [
              "array([-1.27273539])"
            ]
          },
          "metadata": {},
          "execution_count": 78
        }
      ]
    },
    {
      "cell_type": "code",
      "source": [
        "reg.intercept_ # intercept: 절편, 편향"
      ],
      "metadata": {
        "colab": {
          "base_uri": "https://localhost:8080/"
        },
        "id": "k90lzFgLDhp5",
        "outputId": "fe4707e1-87ea-462c-9c57-09ba491d782d"
      },
      "execution_count": null,
      "outputs": [
        {
          "output_type": "execute_result",
          "data": {
            "text/plain": [
              "89.01906339020276"
            ]
          },
          "metadata": {},
          "execution_count": 79
        }
      ]
    },
    {
      "cell_type": "code",
      "source": [
        "Y_small_predicted = reg.predict(X_small) # make predictions"
      ],
      "metadata": {
        "id": "9-ibcwoCDoff"
      },
      "execution_count": null,
      "outputs": []
    },
    {
      "cell_type": "code",
      "source": [
        "for i in range (X_small.size):\n",
        "    plt.plot( (X_small[i],X_small[i]) , (Y_small[i],Y_small_predicted[i]) ,c='gray')\n",
        "    \n",
        "plt.scatter (X_small, Y_small_predicted)\n",
        "plt.scatter (X_small, Y_small)"
      ],
      "metadata": {
        "colab": {
          "base_uri": "https://localhost:8080/",
          "height": 283
        },
        "id": "TWxe_7vyDj6s",
        "outputId": "ae5d40e0-c65d-40b3-d243-26e79d19459b"
      },
      "execution_count": null,
      "outputs": [
        {
          "output_type": "execute_result",
          "data": {
            "text/plain": [
              "<matplotlib.collections.PathCollection at 0x7f4e1bd5f8b0>"
            ]
          },
          "metadata": {},
          "execution_count": 81
        },
        {
          "output_type": "display_data",
          "data": {
            "text/plain": [
              "<Figure size 432x288 with 1 Axes>"
            ],
            "image/png": "[encoded data removed]"
          },
          "metadata": {
            "needs_background": "light"
          }
        }
      ]
    },
    {
      "cell_type": "code",
      "source": [
        "reg.fit(X_large, Y_large) # train the model"
      ],
      "metadata": {
        "colab": {
          "base_uri": "https://localhost:8080/"
        },
        "id": "BEImv2UDEugp",
        "outputId": "b8456f12-9d1f-48d8-ae14-c0908806b808"
      },
      "execution_count": null,
      "outputs": [
        {
          "output_type": "execute_result",
          "data": {
            "text/plain": [
              "LinearRegression()"
            ]
          },
          "metadata": {},
          "execution_count": 82
        }
      ]
    },
    {
      "cell_type": "code",
      "source": [
        "reg.score(X_large, Y_large) # 성능 평가"
      ],
      "metadata": {
        "colab": {
          "base_uri": "https://localhost:8080/"
        },
        "id": "zgveZxuRE2OZ",
        "outputId": "533aba4b-a0cc-4779-e3af-c9f69bb98d73"
      },
      "execution_count": null,
      "outputs": [
        {
          "output_type": "execute_result",
          "data": {
            "text/plain": [
              "0.5005742216517542"
            ]
          },
          "metadata": {},
          "execution_count": 83
        }
      ]
    },
    {
      "cell_type": "code",
      "source": [
        "reg.coef_ # coefficient: 계수, 가중치"
      ],
      "metadata": {
        "colab": {
          "base_uri": "https://localhost:8080/"
        },
        "id": "QjtXzoqdE8YZ",
        "outputId": "321a50ec-84bc-415c-fc3d-e8229ef1890b"
      },
      "execution_count": null,
      "outputs": [
        {
          "output_type": "execute_result",
          "data": {
            "text/plain": [
              "array([1.193187])"
            ]
          },
          "metadata": {},
          "execution_count": 84
        }
      ]
    },
    {
      "cell_type": "code",
      "source": [
        "reg.intercept_ # intercept: 절편, 편향"
      ],
      "metadata": {
        "colab": {
          "base_uri": "https://localhost:8080/"
        },
        "id": "xEqwAEBLE_mm",
        "outputId": "629b64d6-7a82-4139-91bf-76580afb8bd3"
      },
      "execution_count": null,
      "outputs": [
        {
          "output_type": "execute_result",
          "data": {
            "text/plain": [
              "-35.17121540636472"
            ]
          },
          "metadata": {},
          "execution_count": 85
        }
      ]
    },
    {
      "cell_type": "code",
      "source": [
        "Y_large_predicted = reg.predict(X_large) # make predictions"
      ],
      "metadata": {
        "id": "w8G_4mDrFEU2"
      },
      "execution_count": null,
      "outputs": []
    },
    {
      "cell_type": "code",
      "source": [
        "for i in range(X_large.size):\n",
        "  plt.plot((X_large[i], X_large[i]), (Y_large[i], Y_large_predicted[i]), c='gray')\n",
        "\n",
        "plt.scatter (X_large, Y_large_predicted)\n",
        "plt.scatter (X_large, Y_large)"
      ],
      "metadata": {
        "colab": {
          "base_uri": "https://localhost:8080/",
          "height": 283
        },
        "id": "tAtjJOBPFOW7",
        "outputId": "5716502e-0612-4692-ddf9-09aa005f4ac8"
      },
      "execution_count": null,
      "outputs": [
        {
          "output_type": "execute_result",
          "data": {
            "text/plain": [
              "<matplotlib.collections.PathCollection at 0x7f4e1bc24a00>"
            ]
          },
          "metadata": {},
          "execution_count": 88
        },
        {
          "output_type": "display_data",
          "data": {
            "text/plain": [
              "<Figure size 432x288 with 1 Axes>"
            ],
            "image/png": "[encoded data removed]"
          },
          "metadata": {
            "needs_background": "light"
          }
        }
      ]
    }
  ]
}